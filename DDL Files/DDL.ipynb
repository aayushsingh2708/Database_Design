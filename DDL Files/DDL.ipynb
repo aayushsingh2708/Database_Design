{
    "metadata": {
        "kernelspec": {
            "name": "SQL",
            "display_name": "SQL",
            "language": "sql"
        },
        "language_info": {
            "name": "sql",
            "version": ""
        }
    },
    "nbformat_minor": 2,
    "nbformat": 4,
    "cells": [
        {
            "cell_type": "markdown",
            "source": [
                "# DDL Script for creating the tables"
            ],
            "metadata": {
                "azdata_cell_guid": "43c722a2-aa50-40a5-bcb0-0cc34ceb518c"
            },
            "attachments": {}
        },
        {
            "cell_type": "markdown",
            "source": [
                "## Data Source(s)\r\n",
                "The dataset I am using is [Superstore](https://www.kaggle.com/datasets/vivek468/superstore-dataset-final) obtained from Kaggle for study purposes.  Also, I have attached a Excel file in my Dataset Folder, which I used for this project. In that file, I had made some dim and fact tables for my previous projects which I am also going to use in this project."
            ],
            "metadata": {
                "azdata_cell_guid": "5dbf1afd-4e40-48d5-ae29-87544546abe4"
            },
            "attachments": {}
        },
        {
            "cell_type": "markdown",
            "source": [
                "### ⚠️ **Important Note:**\n",
                "\n",
                "Refer to the ERD shown in the Project Overview. Go to table of Contents and click on ERD."
            ],
            "metadata": {
                "azdata_cell_guid": "335f8980-81cf-44d0-8df6-ea50ab253a41"
            },
            "attachments": {}
        },
        {
            "cell_type": "markdown",
            "source": [
                "### **First Step**\n",
                "\n",
                "The very first step is to determine that you are using the right dataset. In my case, I am using Superstore\\_Final. So I am going to use\n",
                "\n",
                "```\n",
                "Use Final_Superstore;\n",
                "Go\n",
                "\n",
                "```"
            ],
            "metadata": {
                "azdata_cell_guid": "ed303038-9b06-4be8-b4e7-349df3c44584"
            },
            "attachments": {}
        },
        {
            "cell_type": "markdown",
            "source": [
                "### **Second Step**\r\n",
                "In this step, we create the schemas dim and f. The dim schema will hold the dimension tables, and the f schema will hold the fact tables.\r\n",
                "```sql\r\n",
                "IF NOT EXISTS (SELECT * FROM sys.schemas WHERE name = 'dim' ) \r\n",
                "BEGIN\r\n",
                "    EXEC sp_executesql N'CREATE SCHEMA dim AUTHORIZATION dbo;'\r\n",
                "END\r\n",
                ";\r\n",
                "\r\n",
                "GO\r\n",
                "\r\n",
                "IF NOT EXISTS (SELECT * FROM sys.schemas WHERE name = 'f' ) \r\n",
                "BEGIN\r\n",
                "    EXEC sp_executesql N'CREATE SCHEMA f AUTHORIZATION dbo;'\r\n",
                "END\r\n",
                ";\r\n",
                "\r\n",
                "GO\r\n",
                ""
            ],
            "metadata": {
                "azdata_cell_guid": "136e90a7-9683-40f6-afe0-777b279b348f"
            },
            "attachments": {}
        },
        {
            "cell_type": "markdown",
            "source": [
                "### **Third Step**\r\n",
                "Now that we are done with creating the schemas, we can jump into creating our dim tables.\r\n",
                "```sql\r\n",
                "/*********************************************************/\r\n",
                "/****************** Segment DIM DDL **********************/\r\n",
                "/*********************************************************/\r\n",
                "\r\n",
                "IF NOT EXISTS (SELECT * FROM INFORMATION_SCHEMA.TABLES WHERE TABLE_SCHEMA = 'dim' AND TABLE_NAME = 'Segment')\r\n",
                "BEGIN\r\n",
                "    CREATE TABLE dim.Segment (\r\n",
                "        SegmentID BIGINT NOT NULL,\r\n",
                "        Segment NVARCHAR(MAX) NULL\r\n",
                "    );\r\n",
                "\r\n",
                "    ALTER TABLE dim.Segment\r\n",
                "    ADD CONSTRAINT PK_Segment PRIMARY KEY (SegmentID);\r\n",
                "END\r\n",
                ";\r\n",
                "\r\n",
                "GO\r\n",
                "\r\n",
                "/*********************************************************/\r\n",
                "/****************** ShipMode DIM DDL *********************/\r\n",
                "/*********************************************************/\r\n",
                "\r\n",
                "IF NOT EXISTS (SELECT * FROM INFORMATION_SCHEMA.TABLES WHERE TABLE_SCHEMA = 'dim' AND TABLE_NAME = 'ShipMode')\r\n",
                "BEGIN\r\n",
                "    CREATE TABLE dim.ShipMode (\r\n",
                "        ShipModeID BIGINT NOT NULL,\r\n",
                "        ShipMode NVARCHAR(MAX) NULL\r\n",
                "    );\r\n",
                "\r\n",
                "    ALTER TABLE dim.ShipMode\r\n",
                "    ADD CONSTRAINT PK_ShipMode PRIMARY KEY (ShipModeID);\r\n",
                "END\r\n",
                ";\r\n",
                "\r\n",
                "GO\r\n",
                "\r\n",
                "/*********************************************************/\r\n",
                "/****************** Region DIM DDL ***********************/\r\n",
                "/*********************************************************/\r\n",
                "\r\n",
                "IF NOT EXISTS (SELECT * FROM INFORMATION_SCHEMA.TABLES WHERE TABLE_SCHEMA = 'dim' AND TABLE_NAME = 'Region')\r\n",
                "BEGIN\r\n",
                "    CREATE TABLE dim.Region (\r\n",
                "        RegionID BIGINT NOT NULL,\r\n",
                "        Region NVARCHAR(MAX) NULL\r\n",
                "    );\r\n",
                "\r\n",
                "    ALTER TABLE dim.Region\r\n",
                "    ADD CONSTRAINT PK_Region PRIMARY KEY (RegionID);\r\n",
                "END\r\n",
                ";\r\n",
                "\r\n",
                "GO\r\n",
                "\r\n",
                "/*********************************************************/\r\n",
                "/****************** Category DIM DDL *********************/\r\n",
                "/*********************************************************/\r\n",
                "\r\n",
                "IF NOT EXISTS (SELECT * FROM INFORMATION_SCHEMA.TABLES WHERE TABLE_SCHEMA = 'dim' AND TABLE_NAME = 'Category')\r\n",
                "BEGIN\r\n",
                "    CREATE TABLE dim.Category (\r\n",
                "        CategoryID BIGINT NOT NULL,\r\n",
                "        Category NVARCHAR(MAX) NULL\r\n",
                "    );\r\n",
                "\r\n",
                "    ALTER TABLE dim.Category\r\n",
                "    ADD CONSTRAINT PK_Category PRIMARY KEY (CategoryID);\r\n",
                "END\r\n",
                ";\r\n",
                "\r\n",
                "GO\r\n",
                "\r\n",
                "/*********************************************************/\r\n",
                "/**************** Sub-Category DIM DDL *******************/\r\n",
                "/*********************************************************/\r\n",
                "\r\n",
                "IF NOT EXISTS (SELECT * FROM INFORMATION_SCHEMA.TABLES WHERE TABLE_SCHEMA = 'dim' AND TABLE_NAME = 'SubCategory')\r\n",
                "BEGIN\r\n",
                "    CREATE TABLE dim.SubCategory (\r\n",
                "        SubCategoryID BIGINT NOT NULL,\r\n",
                "        SubCategory NVARCHAR(MAX) NULL\r\n",
                "    );\r\n",
                "\r\n",
                "    ALTER TABLE dim.SubCategory\r\n",
                "    ADD CONSTRAINT PK_SubCategory PRIMARY KEY (SubCategoryID);\r\n",
                "END\r\n",
                ";\r\n",
                "\r\n",
                "GO\r\n",
                "\r\n",
                "/*********************************************************/\r\n",
                "/****************** Year DIM DDL *************************/\r\n",
                "/*********************************************************/\r\n",
                "\r\n",
                "IF NOT EXISTS (SELECT * FROM INFORMATION_SCHEMA.TABLES WHERE TABLE_SCHEMA = 'dim' AND TABLE_NAME = 'Year')\r\n",
                "BEGIN\r\n",
                "    CREATE TABLE dim.Year (\r\n",
                "        YearID BIGINT NOT NULL,\r\n",
                "        Year BIGINT NULL\r\n",
                "    );\r\n",
                "\r\n",
                "    ALTER TABLE dim.Year\r\n",
                "    ADD CONSTRAINT PK_Year PRIMARY KEY (YearID);\r\n",
                "END\r\n",
                ";\r\n",
                "\r\n",
                "GO\r\n",
                "\r\n",
                "\r\n",
                "\r\n",
                ""
            ],
            "metadata": {
                "azdata_cell_guid": "47b43cd7-5cbd-4775-8b7d-bd4a2e540205"
            },
            "attachments": {}
        },
        {
            "cell_type": "markdown",
            "source": [
                "### **Fourth Step**\r\n",
                "Finally it's time to create our last table which is our fact table.\r\n",
                "```sql\r\n",
                "IF NOT EXISTS (SELECT * FROM INFORMATION_SCHEMA.TABLES WHERE TABLE_SCHEMA = 'f' AND TABLE_NAME = 'Orders')\r\n",
                "BEGIN\r\n",
                "    CREATE TABLE f.Orders (\r\n",
                "        RowID BIGINT NOT NULL, \r\n",
                "        OrderDate DATETIME2(0) NULL,\r\n",
                "        ShipDate DATETIME2(0) NULL,\r\n",
                "        ShipModeID BIGINT NULL,\r\n",
                "        CustomerName NVARCHAR(MAX) NULL,\r\n",
                "        SegmentID BIGINT NULL,\r\n",
                "        Country NVARCHAR(MAX) NULL,\r\n",
                "        City NVARCHAR(MAX) NULL,\r\n",
                "        State NVARCHAR(MAX) NULL,\r\n",
                "        RegionID BIGINT NULL,\r\n",
                "        CategoryID BIGINT NULL,\r\n",
                "        SubCategoryID BIGINT NULL,\r\n",
                "        ProductName NVARCHAR(MAX) NULL,\r\n",
                "        Sales FLOAT NULL,\r\n",
                "        Quantity BIGINT NULL,\r\n",
                "        Discount FLOAT NULL,\r\n",
                "        Profit FLOAT NULL,\r\n",
                "        Year INT NULL,\r\n",
                "        YearID BIGINT NULL\r\n",
                "    );\r\n",
                "\r\n",
                "    ALTER TABLE f.Orders\r\n",
                "    ADD CONSTRAINT PK_Orders PRIMARY KEY (RowID);\r\n",
                "\r\n",
                "    ALTER TABLE f.Orders\r\n",
                "    ADD CONSTRAINT FK_Orders_Segment FOREIGN KEY (SegmentID)\r\n",
                "    REFERENCES dim.Segment (SegmentID);\r\n",
                "\r\n",
                "    ALTER TABLE f.Orders\r\n",
                "    ADD CONSTRAINT FK_Orders_ShipMode FOREIGN KEY (ShipModeID)\r\n",
                "    REFERENCES dim.ShipMode (ShipModeID);\r\n",
                "\r\n",
                "    ALTER TABLE f.Orders\r\n",
                "    ADD CONSTRAINT FK_Orders_Region FOREIGN KEY (RegionID)\r\n",
                "    REFERENCES dim.Region (RegionID);\r\n",
                "\r\n",
                "    ALTER TABLE f.Orders\r\n",
                "    ADD CONSTRAINT FK_Orders_Category FOREIGN KEY (CategoryID)\r\n",
                "    REFERENCES dim.Category (CategoryID);\r\n",
                "\r\n",
                "    ALTER TABLE f.Orders\r\n",
                "    ADD CONSTRAINT FK_Orders_SubCategory FOREIGN KEY (SubCategoryID)\r\n",
                "    REFERENCES dim.SubCategory (SubCategoryID);\r\n",
                "\r\n",
                "    --  ALTER TABLE f.Orders\r\n",
                "    --  ADD CONSTRAINT FK_Orders_Year FOREIGN KEY (YearID)\r\n",
                "    --  REFERENCES dim.Year (YearID);\r\n",
                "END\r\n",
                ";\r\n",
                "\r\n",
                "GO\r\n",
                ""
            ],
            "metadata": {
                "azdata_cell_guid": "e996662c-53e9-4c1a-9d4f-f0178234518f"
            },
            "attachments": {}
        },
        {
            "cell_type": "markdown",
            "source": [
                "### 🎉 Congratulations! 🎉\r\n",
                "\r\n",
                "You have successfully created the necessary tables for the Superstore_Final database, including all the **dimension (dim)** and **fact (f)** tables. Well done!\r\n",
                "\r\n",
                "Now that your schema and tables are set up, you can proceed to the next step: **DML (Data Manipulation Language) Creation**.\r\n",
                "\r\n",
                "In this step, you'll insert data into the tables using `INSERT` statements.\r\n",
                "\r\n",
                "Good luck with the next phase, and happy coding! 💻🚀\r\n",
                "\r\n",
                "[DML Files --&gt;](https://github.com/aayushsingh2708/Database_Design/tree/main/DML%20Files)\r\n",
                ""
            ],
            "metadata": {
                "azdata_cell_guid": "7191978e-0e15-45b1-8912-82b8b040d6d8"
            },
            "attachments": {}
        },
        {
            "cell_type": "markdown",
            "source": [
                "### ERD\r\n",
                "![Final_Diagram](https://github.com/aayushsingh2708/Database_Design/blob/main/Dataset/Final_Diagram.png)"
            ],
            "metadata": {
                "azdata_cell_guid": "284d9840-020a-4165-9512-4d3fe67cf2ec"
            },
            "attachments": {}
        }
    ]
}