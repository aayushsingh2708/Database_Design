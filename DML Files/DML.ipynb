{
    "metadata": {
        "kernelspec": {
            "name": "SQL",
            "display_name": "SQL",
            "language": "sql"
        },
        "language_info": {
            "name": "sql",
            "version": ""
        }
    },
    "nbformat_minor": 2,
    "nbformat": 4,
    "cells": [
        {
            "cell_type": "markdown",
            "source": [
                "# DML Script for Inserting the Data"
            ],
            "metadata": {
                "azdata_cell_guid": "21d138e6-2626-4256-a518-7701c3a4c464"
            },
            "attachments": {}
        },
        {
            "cell_type": "markdown",
            "source": [
                "## Data Source(s)\r\n",
                "The dataset I am using is [Superstore](https://www.kaggle.com/datasets/vivek468/superstore-dataset-final) obtained from Kaggle for study purposes.  Also, I have attached a Excel file in my Dataset Folder, which I used for this project. In that file, I had made some dim and fact tables for my previous projects which I am also going to use in this project."
            ],
            "metadata": {
                "azdata_cell_guid": "ad756c13-e6af-41fb-a6e8-1d5530fb757a"
            },
            "attachments": {}
        },
        {
            "cell_type": "markdown",
            "source": [
                "### ⚠️ **Important Note:**\r\n",
                "\r\n",
                "Refer to the ERD shown in the Project Overview. Go to table of Contents and click on ERD."
            ],
            "metadata": {
                "azdata_cell_guid": "0ddc067b-e91b-4328-b1db-eedc891585f3"
            },
            "attachments": {}
        },
        {
            "cell_type": "markdown",
            "source": [
                "### **First Step**\r\n",
                "\r\n",
                "The very first step is to determine that you are using the right dataset. In my case, I am using Superstore\\_Final. So I am going to use\r\n",
                "\r\n",
                "```\r\n",
                "Use Final_Superstore;\r\n",
                "Go\r\n",
                "\r\n",
                "```"
            ],
            "metadata": {
                "azdata_cell_guid": "87a3a636-9026-46eb-b474-000e36198472"
            },
            "attachments": {}
        },
        {
            "cell_type": "markdown",
            "source": [
                "### **Second Step**\r\n",
                "In this step, we will start inserting the data. Let's start with inserting the data into dim tables.\r\n",
                "```sql\r\n",
                "/*\r\n",
                "  Load the Segment dimension data ...\r\n",
                "*/\r\n",
                "INSERT INTO dim.Segment (SegmentID, Segment)\r\n",
                "SELECT DISTINCT \r\n",
                "       s.SegmentID, \r\n",
                "       s.Segment\r\n",
                "FROM stg.dim_Segment s\r\n",
                "WHERE s.SegmentID NOT IN (SELECT SegmentID FROM dim.Segment);\r\n",
                "GO\r\n",
                "\r\n",
                "/*\r\n",
                "  Load the ShipMode dimension data ...\r\n",
                "*/\r\n",
                "INSERT INTO dim.ShipMode (ShipModeID, ShipMode)\r\n",
                "SELECT DISTINCT \r\n",
                "       sm.ShipModeID, \r\n",
                "       sm.[Ship Mode]\r\n",
                "FROM stg.dim_ShipMode sm\r\n",
                "WHERE sm.ShipModeID NOT IN (SELECT ShipModeID FROM dim.ShipMode);\r\n",
                "GO\r\n",
                "\r\n",
                "/*\r\n",
                "  Load the Region dimension data ...\r\n",
                "*/\r\n",
                "INSERT INTO dim.Region (RegionID, Region)\r\n",
                "SELECT DISTINCT \r\n",
                "       r.RegionID, \r\n",
                "       r.Region\r\n",
                "FROM stg.dim_Region r\r\n",
                "WHERE r.RegionID NOT IN (SELECT RegionID FROM dim.Region);\r\n",
                "GO\r\n",
                "\r\n",
                "/*\r\n",
                "  Load the Category dimension data ...\r\n",
                "*/\r\n",
                "INSERT INTO dim.Category (CategoryID, Category)\r\n",
                "SELECT DISTINCT \r\n",
                "       c.CategoryID, \r\n",
                "       c.Category\r\n",
                "FROM stg.dim_Category c\r\n",
                "WHERE c.CategoryID NOT IN (SELECT CategoryID FROM dim.Category);\r\n",
                "GO\r\n",
                "\r\n",
                "/*\r\n",
                "  Load the SubCategory dimension data ...\r\n",
                "*/\r\n",
                "INSERT INTO dim.SubCategory (SubCategoryID, SubCategory)\r\n",
                "SELECT DISTINCT \r\n",
                "       sc.[Sub-CategoryID], \r\n",
                "       sc.[Sub-Category]\r\n",
                "FROM stg.[dim_Sub-Category] sc\r\n",
                "WHERE sc.[Sub-CategoryID] NOT IN (SELECT SubCategoryID FROM dim.SubCategory);\r\n",
                "GO\r\n",
                "\r\n",
                "/*\r\n",
                "  Inserting the Year dimension data ...\r\n",
                "*/\r\n",
                "INSERT INTO dim.Year (YearID, Year)\r\n",
                "VALUES \r\n",
                "        (1000000, 2011),\r\n",
                "        (1000001, 2012),\r\n",
                "        (1000002, 2013),\r\n",
                "        (1000003, 2014);\r\n",
                "GO\r\n",
                "\r\n",
                ""
            ],
            "metadata": {
                "azdata_cell_guid": "98020fc7-4ec1-4e32-be8d-85883f461669"
            },
            "attachments": {}
        },
        {
            "cell_type": "markdown",
            "source": [
                "### **Third Step**\r\n",
                "Now, let's insert the data into our fact table. Also, note that we have joined the tables according to the relationships we made and you can also refer to ERD at the end of this notebook.\r\n",
                "```sql\r\n",
                "/*\r\n",
                "  Load the Orders fact table data ...\r\n",
                "*/\r\n",
                "INSERT INTO f.Orders \r\n",
                "    (RowID, OrderDate, ShipDate, ShipModeID, CustomerName, SegmentID, Country, City, State, RegionID, \r\n",
                "    CategoryID, SubCategoryID, ProductName, Sales, Quantity, Discount, Profit, Year, YearID)\r\n",
                "SELECT DISTINCT\r\n",
                "    o.[Row ID] AS RowID, \r\n",
                "    o.[Order Date] AS OrderDate, \r\n",
                "    o.[Ship Date] AS ShipDate,\r\n",
                "    o.ShipModeID,\r\n",
                "    o.[Customer Name] AS CustomerName,\r\n",
                "    o.SegmentID,\r\n",
                "    o.Country,\r\n",
                "    o.City,\r\n",
                "    o.State,\r\n",
                "    o.RegionID,\r\n",
                "    o.CategoryID,\r\n",
                "    o.[Sub-CategoryID] AS SubCategoryID,\r\n",
                "    o.[Product Name] AS ProductName,\r\n",
                "    o.Sales, \r\n",
                "    o.Quantity, \r\n",
                "    o.Discount, \r\n",
                "    o.Profit,\r\n",
                "    YEAR(o.[Order Date]) AS Year,\r\n",
                "    CASE YEAR(o.[Order Date])                        \r\n",
                "        WHEN 2011 THEN 1000000\r\n",
                "        WHEN 2012 THEN 1000001\r\n",
                "        WHEN 2013 THEN 1000002\r\n",
                "        WHEN 2014 THEN 1000003\r\n",
                "    END AS YearID\r\n",
                "FROM stg.Orders o\r\n",
                "-- Ensure these column names exist and are correctly referenced\r\n",
                "JOIN stg.dim_Segment seg ON o.SegmentID = seg.SegmentID\r\n",
                "JOIN stg.dim_ShipMode sm ON o.ShipModeID = sm.ShipModeID\r\n",
                "JOIN stg.dim_Region r ON o.RegionID = r.RegionID\r\n",
                "JOIN stg.dim_Category cat ON o.CategoryID = cat.CategoryID\r\n",
                "JOIN stg.[dim_Sub-Category] sc ON o.[Sub-CategoryID] = sc.[Sub-CategoryID]\r\n",
                "JOIN dim.Year y ON YEAR(o.[Order Date]) = y.Year;\r\n",
                "GO\r\n",
                ""
            ],
            "metadata": {
                "azdata_cell_guid": "b618646d-a8e5-4341-9ae5-7c8bd1366d67"
            },
            "attachments": {}
        },
        {
            "cell_type": "markdown",
            "source": [
                "**🎉 Congratulations! 🎉**\r\n",
                "\r\n",
                "You have successfully inserted all the data into the Superstore_Final database, including the dimension **dim** and fact **f** tables. Excellent work!\r\n",
                "\r\n",
                "With the data now in place, you've completed a major milestone in your project. You’re all set to proceed to the next phase: Further Data Analysis & Reporting.\r\n",
                "\r\n",
                "Now, you can perform complex queries, generate reports, and analyze the data to uncover valuable insights. Whether you're focusing on business intelligence, optimization, or forecasting, you're well on your way to creating a powerful and actionable dataset.\r\n",
                "\r\n",
                "Great job, and keep up the fantastic work! 🚀💡"
            ],
            "metadata": {
                "azdata_cell_guid": "a98bb1c2-d38f-44f5-b66c-d5dd8c92e726"
            },
            "attachments": {}
        },
        {
            "cell_type": "markdown",
            "source": [
                "### ERD\r\n",
                "![Final_Diagram](https://github.com/aayushsingh2708/Database_Design/blob/main/Dataset/Final_Diagram.png)"
            ],
            "metadata": {
                "azdata_cell_guid": "0b60d3b3-53c6-457f-bcda-af4d36acc63e"
            },
            "attachments": {}
        }
    ]
}